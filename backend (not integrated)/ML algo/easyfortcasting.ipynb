{
 "cells": [
  {
   "cell_type": "code",
   "execution_count": null,
   "metadata": {
    "vscode": {
     "languageId": "plaintext"
    }
   },
   "outputs": [],
   "source": [
    "import pandas as pd\n",
    "import numpy as np\n",
    "from prophet import Prophet\n",
    "import matplotlib.pyplot as plt\n",
    "\n",
    "def quick_energy_roi_forecast(days=365, forecast_days=30):\n",
    "    # Generate random time series data for energy production and ROI\n",
    "    np.random.seed(42)\n",
    "    date_range = pd.date_range(start='2022-01-01', periods=days)\n",
    "    energy_production = np.random.normal(loc=100, scale=10, size=days)  # Simulated energy production (e.g., in kWh)\n",
    "    financial_savings = energy_production * 0.1  # Example: financial savings as 10% of energy production\n",
    "\n",
    "    # Create DataFrames for Prophet (needs 'ds' and 'y' columns)\n",
    "    energy_df = pd.DataFrame({'ds': date_range, 'y': energy_production})\n",
    "    savings_df = pd.DataFrame({'ds': date_range, 'y': financial_savings})\n",
    "\n",
    "    # Initialize and fit Prophet models\n",
    "    energy_model = Prophet()\n",
    "    roi_model = Prophet()\n",
    "\n",
    "    energy_model.fit(energy_df)\n",
    "    roi_model.fit(savings_df)\n",
    "\n",
    "    # Create future dataframes for predictions\n",
    "    future_energy = energy_model.make_future_dataframe(periods=forecast_days)\n",
    "    future_roi = roi_model.make_future_dataframe(periods=forecast_days)\n",
    "\n",
    "    # Predict future values\n",
    "    energy_forecast = energy_model.predict(future_energy)\n",
    "    roi_forecast = roi_model.predict(future_roi)\n",
    "\n",
    "    # Plot results\n",
    "    fig, (ax1, ax2) = plt.subplots(2, 1, figsize=(10, 8))\n",
    "\n",
    "    # Plot Energy Production Forecast\n",
    "    energy_model.plot(energy_forecast, ax=ax1)\n",
    "    ax1.set_title(\"Energy Production Forecast\")\n",
    "    ax1.set_ylabel(\"Energy Production (kWh)\")\n",
    "\n",
    "    # Plot Financial Savings Forecast\n",
    "    roi_model.plot(roi_forecast, ax=ax2)\n",
    "    ax2.set_title(\"Financial Savings Forecast\")\n",
    "    ax2.set_ylabel(\"Financial Savings ($)\")\n",
    "    plt.tight_layout()\n",
    "    plt.show()\n",
    "\n",
    "    # Display forecasted values\n",
    "    print(\"Forecasted Energy Production:\")\n",
    "    print(energy_forecast[['ds', 'yhat']].tail(forecast_days))\n",
    "\n",
    "    print(\"\\nForecasted Financial Savings:\")\n",
    "    print(roi_forecast[['ds', 'yhat']].tail(forecast_days))\n",
    "\n",
    "# Usage\n",
    "quick_energy_roi_forecast(days=365, forecast_days=30)\n"
   ]
  }
 ],
 "metadata": {
  "language_info": {
   "name": "python"
  }
 },
 "nbformat": 4,
 "nbformat_minor": 2
}
