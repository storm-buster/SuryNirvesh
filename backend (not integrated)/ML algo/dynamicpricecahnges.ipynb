{
 "cells": [
  {
   "cell_type": "code",
   "execution_count": null,
   "metadata": {
    "vscode": {
     "languageId": "plaintext"
    }
   },
   "outputs": [],
   "source": [
    "import numpy as np\n",
    "import pandas as pd\n",
    "from sklearn.metrics import mean_squared_error\n",
    "from sklearn.model_selection import train_test_split\n",
    "from scipy.sparse.linalg import svds\n",
    "\n",
    "# Function to create a collaborative filtering model using SVD\n",
    "def investment_recommendation(data, user_id, num_recommendations=5):\n",
    "    # Create the investment matrix\n",
    "    investment_matrix = data.pivot(index='user_id', columns='project_id', values='investment_amount').fillna(0)\n",
    "    investment_matrix_np = investment_matrix.to_numpy()\n",
    "\n",
    "    # Perform SVD\n",
    "    k = min(investment_matrix_np.shape) - 1  # Set number of latent factors\n",
    "    U, sigma, Vt = svds(investment_matrix_np, k=k)\n",
    "    sigma = np.diag(sigma)\n",
    "\n",
    "    # Predict missing investment amounts\n",
    "    predicted_investments = np.dot(np.dot(U, sigma), Vt)\n",
    "    predicted_df = pd.DataFrame(predicted_investments, columns=investment_matrix.columns, index=investment_matrix.index)\n",
    "\n",
    "    # Recommend projects for the specified user\n",
    "    if user_id not in predicted_df.index:\n",
    "        print(f\"User ID {user_id} not found.\")\n",
    "        return {}\n",
    "\n",
    "    user_predictions = predicted_df.loc[user_id].sort_values(ascending=False)\n",
    "    recommendations = {project: round(user_predictions[project], 2) for project in user_predictions.head(num_recommendations).index}\n",
    "    return recommendations  \n",
    "\n",
    "# Generate random data for demonstration\n",
    "np.random.seed(42)\n",
    "user_ids = np.arange(1, 11)\n",
    "project_ids = np.arange(1, 6)\n",
    "data = []\n",
    "\n",
    "for user in user_ids:\n",
    "    for project in project_ids:\n",
    "        investment = np.random.choice([0, np.random.randint(1, 100)], p=[0.6, 0.4])  # 60% chance of 0\n",
    "        data.append([user, project, investment])\n",
    "\n",
    "# Create a DataFrame\n",
    "df = pd.DataFrame(data, columns=['user_id', 'project_id', 'investment_amount'])\n",
    "\n",
    "# Specify user ID for recommendations\n",
    "user_id = 1\n",
    "recommendations = investment_recommendation(df, user_id)\n",
    "\n",
    "# Display recommendations\n",
    "if recommendations:\n",
    "    print(f\"Top recommended projects and investment amounts for user {user_id}:\")\n",
    "    for project, investment in recommendations.items():\n",
    "        print(f\"Project ID: {project}, Predicted Investment Amount: {investment}\")\n"
   ]
  }
 ],
 "metadata": {
  "language_info": {
   "name": "python"
  }
 },
 "nbformat": 4,
 "nbformat_minor": 2
}
